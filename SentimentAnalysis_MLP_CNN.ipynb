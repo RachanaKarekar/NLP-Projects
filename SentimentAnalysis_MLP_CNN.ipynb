{
  "nbformat": 4,
  "nbformat_minor": 0,
  "metadata": {
    "colab": {
      "name": "SentimentAnalysis_MLP _CNN.ipynb",
      "provenance": [],
      "collapsed_sections": [],
      "authorship_tag": "ABX9TyMOxCgMuSjbe+A9gpz7Er10"
    },
    "kernelspec": {
      "name": "python3",
      "display_name": "Python 3"
    },
    "accelerator": "GPU"
  },
  "cells": [
    {
      "cell_type": "markdown",
      "metadata": {
        "id": "LoYP9C5dq9_V",
        "colab_type": "text"
      },
      "source": [
        "## Data used: http://www.cs.cornell.edu/people/pabo/movie-review-data/review_polarity.tar.gz\n",
        "\n",
        "---\n",
        "The\n",
        "dataset is comprised of 1,000 positive and 1,000 negative movie reviews\n"
      ]
    },
    {
      "cell_type": "code",
      "metadata": {
        "id": "ps6T-k80lNZU",
        "colab_type": "code",
        "colab": {}
      },
      "source": [
        "from google.colab import drive\n",
        "drive.mount('/content/gdrive')"
      ],
      "execution_count": null,
      "outputs": []
    },
    {
      "cell_type": "code",
      "metadata": {
        "id": "4_EH6LCrvdp-",
        "colab_type": "code",
        "colab": {}
      },
      "source": [
        "import nltk\n",
        "nltk.download('stopwords')"
      ],
      "execution_count": null,
      "outputs": []
    },
    {
      "cell_type": "code",
      "metadata": {
        "id": "fiabd_vGkcmU",
        "colab_type": "code",
        "colab": {}
      },
      "source": [
        "import string\n",
        "import re\n",
        "from os import listdir\n",
        "from numpy import array\n",
        "from keras.preprocessing.text import Tokenizer\n",
        "from keras.preprocessing.sequence import pad_sequences\n",
        "from keras.utils.vis_utils import plot_model\n",
        "from keras.models import Model\n",
        "from keras.layers import Input\n",
        "from keras.layers import Dense\n",
        "from keras.layers import Flatten\n",
        "from keras.layers import Dropout\n",
        "from keras.layers import Embedding\n",
        "from keras.layers.convolutional import Conv1D\n",
        "from keras.layers.convolutional import MaxPooling1D\n",
        "from keras.layers.merge import concatenate\n",
        "from pickle import dump, load\n",
        "from nltk.corpus import stopwords"
      ],
      "execution_count": 22,
      "outputs": []
    },
    {
      "cell_type": "markdown",
      "metadata": {
        "id": "x1mOMNg_9nYG",
        "colab_type": "text"
      },
      "source": [
        "# Store the Vocabulary\n",
        "\n",
        "---\n"
      ]
    },
    {
      "cell_type": "code",
      "metadata": {
        "id": "6bumZefyklLi",
        "colab_type": "code",
        "colab": {
          "base_uri": "https://localhost:8080/",
          "height": 54
        },
        "outputId": "efe5b5d2-8fec-46c4-e879-2050a940404c"
      },
      "source": [
        "# load doc into memory\n",
        "def load_doc(filename):\n",
        "\n",
        "  # open the file as read only\n",
        "  file = open(filename, 'r')\n",
        "\n",
        "  # read all text\n",
        "  text = file.read()\n",
        "\n",
        "  # close the file\n",
        "  file.close()\n",
        "\n",
        "  return text\n",
        "\n",
        "\n",
        "# turn a doc into clean tokens\n",
        "def clean_doc(doc):\n",
        "  # split into tokens by white space\n",
        "  tokens = doc.split()\n",
        "  # prepare regex for char filtering\n",
        "  re_punc = re.compile('[%s]' % re.escape(string.punctuation))\n",
        "  # remove punctuation from each word\n",
        "  tokens = [re_punc.sub('', w) for w in tokens]\n",
        "  # remove remaining tokens that are not alphabetic\n",
        "  tokens = [word for word in tokens if word.isalpha()]\n",
        "  # filter out stop words\n",
        "  stop_words = set(stopwords.words('english'))\n",
        "  tokens = [w for w in tokens if not w in stop_words]\n",
        "  # filter out short tokens\n",
        "  tokens = [word for word in tokens if len(word) > 1]\n",
        "  return tokens\n",
        "\n",
        "\n",
        "# load all docs in a directory\n",
        "def process_docs(directory, is_train):\n",
        "  documents = list()\n",
        "  # walk through all files in the folder\n",
        "  for filename in listdir(directory):\n",
        "    # skip any reviews in the test set\n",
        "    if is_train and filename.startswith('cv9'):\n",
        "      continue\n",
        "    if not is_train and not filename.startswith('cv9'):\n",
        "      continue\n",
        "    # create the full path of the file to open\n",
        "    path = directory + '/' + filename\n",
        "    # load the doc\n",
        "    doc = load_doc(path)\n",
        "    # clean doc\n",
        "    tokens = clean_doc(doc)\n",
        "    # add to list\n",
        "    documents.append(tokens)\n",
        "  return documents\n",
        "\n",
        "\n",
        "# load and clean a dataset\n",
        "def load_clean_dataset(is_train):\n",
        "  # load documents\n",
        "  neg = process_docs(\"/content/gdrive/My Drive/NLP_Projects/4/txt_sentoken/neg\", is_train)\n",
        "  pos = process_docs(\"/content/gdrive/My Drive/NLP_Projects/4/txt_sentoken/pos\", is_train)\n",
        "  docs = neg + pos\n",
        "\n",
        "  # prepare labels\n",
        "  labels = [0 for _ in range(len(neg))] + [1 for _ in range(len(pos))]\n",
        "\n",
        "  return docs, labels\n",
        "\n",
        "\n",
        "# save a dataset to file\n",
        "def save_dataset(dataset, filename):\n",
        "  dump(dataset, open(filename, 'wb'))\n",
        "  print('Saved: %s' % filename)\n",
        "\n",
        "\n",
        "# load and clean all reviews\n",
        "train_docs, ytrain = load_clean_dataset(True)\n",
        "test_docs, ytest = load_clean_dataset(False)\n",
        "# save training datasets\n",
        "save_dataset([train_docs, ytrain], \"/content/gdrive/My Drive/NLP_Projects/4/train.pkl\")\n",
        "save_dataset([test_docs, ytest], \"/content/gdrive/My Drive/NLP_Projects/4/test.pkl\")"
      ],
      "execution_count": null,
      "outputs": [
        {
          "output_type": "stream",
          "text": [
            "Saved: /content/gdrive/My Drive/NLP_Projects/4/train.pkl\n",
            "Saved: /content/gdrive/My Drive/NLP_Projects/4/test.pkl\n"
          ],
          "name": "stdout"
        }
      ]
    },
    {
      "cell_type": "code",
      "metadata": {
        "id": "cvhVMACduEYK",
        "colab_type": "code",
        "colab": {
          "base_uri": "https://localhost:8080/",
          "height": 92
        },
        "outputId": "06e5ceba-b3d9-4501-c057-b5ba978ffc55"
      },
      "source": [
        "# define vocab\n",
        "vocab = Counter()\n",
        "\n",
        "# add all docs to vocab\n",
        "process_docs(\"/content/gdrive/My Drive/NLP_Projects/4/txt_sentoken/neg\", vocab)\n",
        "process_docs(\"/content/gdrive/My Drive/NLP_Projects/4/txt_sentoken/pos\", vocab)\n",
        "\n",
        "# print the size of the vocab\n",
        "print(len(vocab))\n",
        "\n",
        "# print the top words in the vocab\n",
        "print(vocab.most_common(50))\n",
        "\n",
        "# keep tokens with > 2 occurrence\n",
        "min_occurence = 2\n",
        "tokens = [k for k,c in vocab.items() if c >= min_occurence]\n",
        "print(len(tokens))\n",
        "\n",
        "# save tokens to a vocabulary file\n",
        "save_list(tokens, \"/content/gdrive/My Drive/NLP_Projects/4/vocab.txt\")"
      ],
      "execution_count": null,
      "outputs": [
        {
          "output_type": "stream",
          "text": [
            "46557\n",
            "[('film', 8860), ('one', 5521), ('movie', 5440), ('like', 3553), ('even', 2555), ('good', 2320), ('time', 2283), ('story', 2118), ('films', 2102), ('would', 2042), ('much', 2024), ('also', 1965), ('characters', 1947), ('get', 1921), ('character', 1906), ('two', 1825), ('first', 1768), ('see', 1730), ('well', 1694), ('way', 1668), ('make', 1590), ('really', 1563), ('little', 1491), ('life', 1472), ('plot', 1451), ('people', 1420), ('movies', 1416), ('could', 1395), ('bad', 1374), ('scene', 1373), ('never', 1364), ('best', 1301), ('new', 1277), ('many', 1268), ('doesnt', 1267), ('man', 1266), ('scenes', 1265), ('dont', 1210), ('know', 1207), ('hes', 1150), ('great', 1141), ('another', 1111), ('love', 1089), ('action', 1078), ('go', 1075), ('us', 1065), ('director', 1056), ('something', 1048), ('end', 1047), ('still', 1038)]\n",
            "27139\n"
          ],
          "name": "stdout"
        }
      ]
    },
    {
      "cell_type": "markdown",
      "metadata": {
        "id": "TqUK9QhZkpT6",
        "colab_type": "text"
      },
      "source": [
        "# Training the multi-layered model\n",
        "\n",
        "---\n",
        "\n"
      ]
    },
    {
      "cell_type": "code",
      "metadata": {
        "id": "2MvARAoA9CSu",
        "colab_type": "code",
        "colab": {}
      },
      "source": [
        "# load a clean dataset\n",
        "def load_dataset(filename):\n",
        "  return load(open(filename, 'rb' ))\n",
        "\n",
        "# fit a tokenizer\n",
        "def create_tokenizer(lines):\n",
        "  tokenizer = Tokenizer()\n",
        "  tokenizer.fit_on_texts(lines)\n",
        "  return tokenizer  \n",
        "\n",
        "# calculate the maximum document length\n",
        "def max_length(lines):\n",
        "  return max([len(s) for s in lines])\n",
        "\n",
        "# encode a list of lines\n",
        "def encode_text(tokenizer, lines, length):\n",
        "  # integer encode\n",
        "  encoded = tokenizer.texts_to_sequences(lines)\n",
        "  # pad encoded sequences\n",
        "  padded = pad_sequences(encoded, maxlen=length, padding= 'post' )\n",
        "  return padded \n",
        "\n",
        "# define the model\n",
        "def define_model(length, vocab_size):\n",
        "  # channel 1\n",
        "  inputs1 = Input(shape=(length,))\n",
        "  embedding1 = Embedding(vocab_size, 100)(inputs1)\n",
        "  conv1 = Conv1D(filters=32, kernel_size=4, activation= 'relu' )(embedding1)\n",
        "  drop1 = Dropout(0.5)(conv1)\n",
        "  pool1 = MaxPooling1D(pool_size=2)(drop1)\n",
        "  flat1 = Flatten()(pool1)\n",
        "  # channel 2\n",
        "  inputs2 = Input(shape=(length,))\n",
        "  embedding2 = Embedding(vocab_size, 100)(inputs2)\n",
        "  conv2 = Conv1D(filters=32, kernel_size=6, activation= 'relu' )(embedding2)\n",
        "  drop2 = Dropout(0.5)(conv2)\n",
        "  pool2 = MaxPooling1D(pool_size=2)(drop2)\n",
        "  flat2 = Flatten()(pool2)\n",
        "  # channel 3\n",
        "  inputs3 = Input(shape=(length,))\n",
        "  embedding3 = Embedding(vocab_size, 100)(inputs3)\n",
        "  conv3 = Conv1D(filters=32, kernel_size=8, activation= 'relu' )(embedding3)\n",
        "  drop3 = Dropout(0.5)(conv3)\n",
        "  pool3 = MaxPooling1D(pool_size=2)(drop3)\n",
        "  flat3 = Flatten()(pool3)\n",
        "  # merge\n",
        "  merged = concatenate([flat1, flat2, flat3])\n",
        "  # interpretation\n",
        "  dense1 = Dense(10, activation= 'relu' )(merged)\n",
        "  outputs = Dense(1, activation= 'sigmoid' )(dense1)\n",
        "  model = Model(inputs=[inputs1, inputs2, inputs3], outputs=outputs)\n",
        "  # compile\n",
        "  model.compile(loss= 'binary_crossentropy' , optimizer= 'adam' , metrics=[ 'accuracy' ])\n",
        "  # summarize\n",
        "  model.summary()\n",
        "  return model     "
      ],
      "execution_count": 23,
      "outputs": []
    },
    {
      "cell_type": "code",
      "metadata": {
        "id": "arBBhfWHa-L4",
        "colab_type": "code",
        "colab": {
          "base_uri": "https://localhost:8080/",
          "height": 1000
        },
        "outputId": "7ce2a08d-d114-4ca4-92be-e4e77b501efa"
      },
      "source": [
        "# load training dataset\n",
        "trainLines, trainLabels = load_dataset(\"/content/gdrive/My Drive/NLP_Projects/4/train.pkl\")\n",
        "# create tokenizer\n",
        "tokenizer = create_tokenizer(trainLines)\n",
        "# calculate max document length\n",
        "length = max_length(trainLines)\n",
        "print( ' Max document length: %d ' % length)\n",
        "# calculate vocabulary size\n",
        "vocab_size = len(tokenizer.word_index) + 1\n",
        "print( ' Vocabulary size: %d ' % vocab_size)\n",
        "# encode data\n",
        "trainX = encode_text(tokenizer, trainLines, length)\n",
        "# define model\n",
        "model = define_model(length, vocab_size)\n",
        "# fit model\n",
        "model.fit([trainX,trainX,trainX], trainLabels, epochs=7, batch_size=16)\n",
        "# save the model\n",
        "model.save(\"/content/gdrive/My Drive/NLP_Projects/4/model1.h5\")"
      ],
      "execution_count": 24,
      "outputs": [
        {
          "output_type": "stream",
          "text": [
            " Max document length: 1380 \n",
            " Vocabulary size: 44277 \n",
            "Model: \"model_1\"\n",
            "__________________________________________________________________________________________________\n",
            "Layer (type)                    Output Shape         Param #     Connected to                     \n",
            "==================================================================================================\n",
            "input_5 (InputLayer)            (None, 1380)         0                                            \n",
            "__________________________________________________________________________________________________\n",
            "input_6 (InputLayer)            (None, 1380)         0                                            \n",
            "__________________________________________________________________________________________________\n",
            "input_7 (InputLayer)            (None, 1380)         0                                            \n",
            "__________________________________________________________________________________________________\n",
            "embedding_5 (Embedding)         (None, 1380, 100)    4427700     input_5[0][0]                    \n",
            "__________________________________________________________________________________________________\n",
            "embedding_6 (Embedding)         (None, 1380, 100)    4427700     input_6[0][0]                    \n",
            "__________________________________________________________________________________________________\n",
            "embedding_7 (Embedding)         (None, 1380, 100)    4427700     input_7[0][0]                    \n",
            "__________________________________________________________________________________________________\n",
            "conv1d_5 (Conv1D)               (None, 1377, 32)     12832       embedding_5[0][0]                \n",
            "__________________________________________________________________________________________________\n",
            "conv1d_6 (Conv1D)               (None, 1375, 32)     19232       embedding_6[0][0]                \n",
            "__________________________________________________________________________________________________\n",
            "conv1d_7 (Conv1D)               (None, 1373, 32)     25632       embedding_7[0][0]                \n",
            "__________________________________________________________________________________________________\n",
            "dropout_4 (Dropout)             (None, 1377, 32)     0           conv1d_5[0][0]                   \n",
            "__________________________________________________________________________________________________\n",
            "dropout_5 (Dropout)             (None, 1375, 32)     0           conv1d_6[0][0]                   \n",
            "__________________________________________________________________________________________________\n",
            "dropout_6 (Dropout)             (None, 1373, 32)     0           conv1d_7[0][0]                   \n",
            "__________________________________________________________________________________________________\n",
            "max_pooling1d_4 (MaxPooling1D)  (None, 688, 32)      0           dropout_4[0][0]                  \n",
            "__________________________________________________________________________________________________\n",
            "max_pooling1d_5 (MaxPooling1D)  (None, 687, 32)      0           dropout_5[0][0]                  \n",
            "__________________________________________________________________________________________________\n",
            "max_pooling1d_6 (MaxPooling1D)  (None, 686, 32)      0           dropout_6[0][0]                  \n",
            "__________________________________________________________________________________________________\n",
            "flatten_4 (Flatten)             (None, 22016)        0           max_pooling1d_4[0][0]            \n",
            "__________________________________________________________________________________________________\n",
            "flatten_5 (Flatten)             (None, 21984)        0           max_pooling1d_5[0][0]            \n",
            "__________________________________________________________________________________________________\n",
            "flatten_6 (Flatten)             (None, 21952)        0           max_pooling1d_6[0][0]            \n",
            "__________________________________________________________________________________________________\n",
            "concatenate_2 (Concatenate)     (None, 65952)        0           flatten_4[0][0]                  \n",
            "                                                                 flatten_5[0][0]                  \n",
            "                                                                 flatten_6[0][0]                  \n",
            "__________________________________________________________________________________________________\n",
            "dense_3 (Dense)                 (None, 10)           659530      concatenate_2[0][0]              \n",
            "__________________________________________________________________________________________________\n",
            "dense_4 (Dense)                 (None, 1)            11          dense_3[0][0]                    \n",
            "==================================================================================================\n",
            "Total params: 14,000,337\n",
            "Trainable params: 14,000,337\n",
            "Non-trainable params: 0\n",
            "__________________________________________________________________________________________________\n"
          ],
          "name": "stdout"
        },
        {
          "output_type": "stream",
          "text": [
            "/usr/local/lib/python3.6/dist-packages/tensorflow/python/framework/indexed_slices.py:434: UserWarning: Converting sparse IndexedSlices to a dense Tensor of unknown shape. This may consume a large amount of memory.\n",
            "  \"Converting sparse IndexedSlices to a dense Tensor of unknown shape. \"\n"
          ],
          "name": "stderr"
        },
        {
          "output_type": "stream",
          "text": [
            "Epoch 1/7\n",
            "1800/1800 [==============================] - 8s 4ms/step - loss: 0.6910 - accuracy: 0.5306\n",
            "Epoch 2/7\n",
            "1800/1800 [==============================] - 2s 857us/step - loss: 0.4083 - accuracy: 0.8178\n",
            "Epoch 3/7\n",
            "1800/1800 [==============================] - 2s 859us/step - loss: 0.0232 - accuracy: 0.9972\n",
            "Epoch 4/7\n",
            "1800/1800 [==============================] - 2s 857us/step - loss: 0.0031 - accuracy: 1.0000\n",
            "Epoch 5/7\n",
            "1800/1800 [==============================] - 2s 854us/step - loss: 0.0014 - accuracy: 1.0000\n",
            "Epoch 6/7\n",
            "1800/1800 [==============================] - 2s 859us/step - loss: 8.1227e-04 - accuracy: 1.0000\n",
            "Epoch 7/7\n",
            "1800/1800 [==============================] - 2s 857us/step - loss: 5.7575e-04 - accuracy: 1.0000\n"
          ],
          "name": "stdout"
        }
      ]
    },
    {
      "cell_type": "markdown",
      "metadata": {
        "id": "i7PisVSRptIF",
        "colab_type": "text"
      },
      "source": [
        "# Evaluating the model\n",
        "\n",
        "---\n"
      ]
    },
    {
      "cell_type": "code",
      "metadata": {
        "id": "SlQbuU-HdnmG",
        "colab_type": "code",
        "colab": {
          "base_uri": "https://localhost:8080/",
          "height": 141
        },
        "outputId": "27f97daa-7cb7-4d38-8e53-e4b5bd1588e8"
      },
      "source": [
        "from keras.models import load_model\n",
        "\n",
        "trainLines, trainLabels = load_dataset(\"/content/gdrive/My Drive/NLP_Projects/4/train.pkl\")\n",
        "testLines, testLabels = load_dataset(\"/content/gdrive/My Drive/NLP_Projects/4/test.pkl\")\n",
        "# create tokenizer\n",
        "tokenizer = create_tokenizer(trainLines)\n",
        "# calculate max document length\n",
        "length = max_length(trainLines)\n",
        "print( ' Max document length: %d ' % length)\n",
        "# calculate vocabulary size\n",
        "vocab_size = len(tokenizer.word_index) + 1\n",
        "print( ' Vocabulary size: %d ' % vocab_size)\n",
        "# encode data\n",
        "trainX = encode_text(tokenizer, trainLines, length)\n",
        "testX = encode_text(tokenizer, testLines, length)\n",
        "# load the model\n",
        "model = load_model(\"/content/gdrive/My Drive/NLP_Projects/4/model1.h5\")\n",
        "# evaluate model on training dataset\n",
        "_, acc = model.evaluate([trainX,trainX,trainX], trainLabels, verbose=0)\n",
        "print( ' Train Accuracy: %.2f ' % (acc*100))\n",
        "# evaluate model on test dataset dataset\n",
        "_, acc = model.evaluate([testX,testX,testX], testLabels, verbose=0)\n",
        "print( ' Test Accuracy: %.2f ' % (acc*100))"
      ],
      "execution_count": 26,
      "outputs": [
        {
          "output_type": "stream",
          "text": [
            " Max document length: 1380 \n",
            " Vocabulary size: 44277 \n"
          ],
          "name": "stdout"
        },
        {
          "output_type": "stream",
          "text": [
            "/usr/local/lib/python3.6/dist-packages/tensorflow/python/framework/indexed_slices.py:434: UserWarning: Converting sparse IndexedSlices to a dense Tensor of unknown shape. This may consume a large amount of memory.\n",
            "  \"Converting sparse IndexedSlices to a dense Tensor of unknown shape. \"\n"
          ],
          "name": "stderr"
        },
        {
          "output_type": "stream",
          "text": [
            " Train Accuracy: 100.00 \n",
            " Test Accuracy: 87.00 \n"
          ],
          "name": "stdout"
        }
      ]
    }
  ]
}